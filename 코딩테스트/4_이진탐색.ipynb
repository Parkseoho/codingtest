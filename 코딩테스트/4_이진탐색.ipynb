{
  "nbformat": 4,
  "nbformat_minor": 0,
  "metadata": {
    "colab": {
      "provenance": [],
      "authorship_tag": "ABX9TyNzgoSdrRaExejX9k0RrXuR",
      "include_colab_link": true
    },
    "kernelspec": {
      "name": "python3",
      "display_name": "Python 3"
    },
    "language_info": {
      "name": "python"
    }
  },
  "cells": [
    {
      "cell_type": "markdown",
      "metadata": {
        "id": "view-in-github",
        "colab_type": "text"
      },
      "source": [
        "<a href=\"https://colab.research.google.com/github/Parkseoho/codingtest/blob/main/%EC%BD%94%EB%94%A9%ED%85%8C%EC%8A%A4%ED%8A%B8/4_%EC%9D%B4%EC%A7%84%ED%83%90%EC%83%89.ipynb\" target=\"_parent\"><img src=\"https://colab.research.google.com/assets/colab-badge.svg\" alt=\"Open In Colab\"/></a>"
      ]
    },
    {
      "cell_type": "markdown",
      "source": [
        "## 1.  이진 탐색 : 반으로 쪼개면서 탐색하기"
      ],
      "metadata": {
        "id": "UWhRpAi7oCiV"
      }
    },
    {
      "cell_type": "code",
      "execution_count": 6,
      "metadata": {
        "colab": {
          "base_uri": "https://localhost:8080/"
        },
        "id": "VbR14MW6KTnF",
        "outputId": "e572a02e-de20-441b-9766-8d048f8dabdd"
      },
      "outputs": [
        {
          "output_type": "stream",
          "name": "stdout",
          "text": [
            "10 7\n",
            "1 3 5 7 9 11 13 15 17 19\n",
            "4\n"
          ]
        }
      ],
      "source": [
        "# 재귀 함수로 구현한 이진 탐색 소스코드\n",
        "\n",
        "def binary_search(array, target, start, end):\n",
        "  if start > end:\n",
        "    return None\n",
        "  mid = (start + end) // 2\n",
        "  if array[mid] == target:\n",
        "    return mid\n",
        "  elif array[mid] > target:\n",
        "    return binary_search(array, target,start, mid-1)\n",
        "  else:\n",
        "    return binary_search(array, target, mid+1, end)\n",
        "\n",
        "n, target = list(map(int,input().split()))\n",
        "array = list(map(int, input().split()))\n",
        "\n",
        "result = binary_search(array,target, 0, n-1)\n",
        "if result == None:\n",
        "  print('원소 없음')\n",
        "else:\n",
        "  print(result +1)"
      ]
    },
    {
      "cell_type": "code",
      "source": [
        "# 반복문으로 구현한 이진 탐색 소스코드\n",
        "\n",
        "def binary_search(array, target, start, end):\n",
        "  while start<=end:\n",
        "    mid = (start+end)//2\n",
        "    if array[mid] == target:\n",
        "      return mid\n",
        "    elif array[mid]> target:\n",
        "      end = mid -1\n",
        "    else:\n",
        "      start = mid+1\n",
        "  return None\n",
        "\n",
        "n, target  = list(map(int, input().split()))\n",
        "array = list(map(int, input().split()))\n",
        "result = binary_search(array,target,0,n-1)\n",
        "if result == None:\n",
        "  print('원소 없음')\n",
        "else:\n",
        "  print(result +1)"
      ],
      "metadata": {
        "colab": {
          "base_uri": "https://localhost:8080/"
        },
        "id": "1EDU8Sqkm7Gh",
        "outputId": "b15ec81f-9a8f-4310-aca0-6bbf6a9ad7eb"
      },
      "execution_count": 7,
      "outputs": [
        {
          "output_type": "stream",
          "name": "stdout",
          "text": [
            "10 7\n",
            "1 3 5 7 9 11 13 15 17 19\n",
            "4\n"
          ]
        }
      ]
    },
    {
      "cell_type": "markdown",
      "source": [
        "## 2. 이진 탐색 트리\n",
        "### 트리 자료구조 중에서 가장 간단한 형태로, 이진 탐색이 동작할 수 있도록 고안된, 효율적인 탐색이 가능한 자료구조"
      ],
      "metadata": {
        "id": "WZ5s4TDu1Sgf"
      }
    },
    {
      "cell_type": "markdown",
      "source": [
        "## 실전문제 1. 부품 찾기\n",
        "### 전자 매장에 부품이 N개, 각 부품은 정수 형태의 고유번호 존재\n",
        "### 어떤 손님이 M개 종류의 부품을 대량으로 구매하겠다면 견적서를 요청, 이때 가게 안에 부품이 모두 있는지 확인하는 프로그램을 작성 부품이 있으면 yes 없으면 no를 출력"
      ],
      "metadata": {
        "id": "3M1Xgn021r_A"
      }
    },
    {
      "cell_type": "code",
      "source": [
        "# 1. 이진 탐색 방법\n",
        "\n",
        "def binary_search(array, target, start, end):\n",
        "  while start <=end:\n",
        "    mid = (start+end)//2\n",
        "    if array[mid] == target:\n",
        "      return mid\n",
        "    elif array[mid] >target:\n",
        "      end = mid-1\n",
        "    else:\n",
        "      start = mid+1\n",
        "  return None\n",
        "\n",
        "n = int(input())\n",
        "array = list(map(int, input().split()))\n",
        "array.sort()\n",
        "m = int(input())\n",
        "x = list(map(int,input().split()))\n",
        "\n",
        "for i in x:\n",
        "  result =  binary_search(array,i,0,n-1)\n",
        "  if result != None:\n",
        "    print('yes',end=' ')\n",
        "  else:\n",
        "    print('no', end = ' ')"
      ],
      "metadata": {
        "colab": {
          "base_uri": "https://localhost:8080/"
        },
        "id": "EG9y43hj1kSx",
        "outputId": "66417527-ac03-4423-97bf-e92dbf5c81f9"
      },
      "execution_count": 9,
      "outputs": [
        {
          "output_type": "stream",
          "name": "stdout",
          "text": [
            "5\n",
            "8 3 7 9 2\n",
            "3 \n",
            "5 7 9\n",
            "no yes yes "
          ]
        }
      ]
    },
    {
      "cell_type": "code",
      "source": [
        "# 2. 계수 정렬 방법\n",
        "\n",
        "# N 가계의 부품 개수을 입력받기\n",
        "n = int(input())\n",
        "array = [0] * 1000001\n",
        "\n",
        "# 가게에 있는 전체 부품 번호를 입력받아서 기록\n",
        "for i in input().split():\n",
        "  array[int(i)] = 1\n",
        "\n",
        "# M 입력받기\n",
        "m = int(input())\n",
        "x = list(map(int,input().split()))\n",
        "\n",
        "for i in x:\n",
        "  if array[i] ==1:\n",
        "    print('yes', end=' ')\n",
        "  else:\n",
        "    print('no', end = ' ')"
      ],
      "metadata": {
        "colab": {
          "base_uri": "https://localhost:8080/"
        },
        "id": "ALEwIbfS3V-K",
        "outputId": "1e46fbc8-1f12-41ef-8dcc-88bf2ad0b4ec"
      },
      "execution_count": 10,
      "outputs": [
        {
          "output_type": "stream",
          "name": "stdout",
          "text": [
            "5\n",
            "8 3 7 9 2\n",
            "3\n",
            "5 7 9\n",
            "no yes yes "
          ]
        }
      ]
    },
    {
      "cell_type": "code",
      "source": [
        "# 3. 집합 자료형 방법\n",
        "\n",
        "n = int(input())\n",
        "array = set(map(int, input().split()))\n",
        "\n",
        "m = int(input())\n",
        "x = list(map(int, input().split()))\n",
        "\n",
        "for i in x:\n",
        "  if i in array:\n",
        "    print('yes', end = ' ')\n",
        "  else:\n",
        "    print('no', end = ' ')"
      ],
      "metadata": {
        "colab": {
          "base_uri": "https://localhost:8080/"
        },
        "id": "C8hrJtkw5jkm",
        "outputId": "a5aa0fc6-7efe-4a42-ba7e-c00740bc1745"
      },
      "execution_count": 19,
      "outputs": [
        {
          "output_type": "stream",
          "name": "stdout",
          "text": [
            "5\n",
            "8 3 7 9 2\n",
            "3\n",
            "5 7 9 \n",
            "no yes yes "
          ]
        }
      ]
    },
    {
      "cell_type": "markdown",
      "source": [
        "## 실전문제 2. 떡볶이 떡 만들기\n",
        "### 떡볶이 집의 떡은 길이가 일정하지 않다.\n",
        "### 대신 한 봉지 안에 들어가는 떡의 총 길이는 절단기로 잘라서 맞춰준다.\n",
        "### 절단기에 높이(H)를 지정하면 줄지어진 떡을 한 번에 절단한다. 높이가 H보다 긴 떡은 H 위의 부분이 잘리고 낮은 떡은 잘리지 않는다.\n",
        "### 손님이 왔을 때 요청한 총 길이가 M일 때 적어도 M만큼의 떡을 얻기 위해 절단기에 설정할 수 있는 높이의 최대값을 구하는 프로그램을 작성"
      ],
      "metadata": {
        "id": "OZV3eXym6xaY"
      }
    },
    {
      "cell_type": "code",
      "source": [
        "n,m = map(int,input().split())\n",
        "array = list(map(int,input().split()))\n",
        "\n",
        "start= 0\n",
        "end = max(array)\n",
        "result = 0\n",
        "\n",
        "while start<= end:\n",
        "  total = 0\n",
        "  mid = (start + end) //2\n",
        "  for x in array:\n",
        "    if x >mid:\n",
        "      total += x -mid\n",
        "  if total <m:\n",
        "    end = mid-1\n",
        "  else:\n",
        "    result = mid\n",
        "    start = mid +1\n",
        "print(result)"
      ],
      "metadata": {
        "colab": {
          "base_uri": "https://localhost:8080/"
        },
        "id": "LY9NX3ab5kpm",
        "outputId": "5ea4d7ec-6545-49d5-ecfb-ab994155efe7"
      },
      "execution_count": 24,
      "outputs": [
        {
          "output_type": "stream",
          "name": "stdout",
          "text": [
            "4 6\n",
            "19 15 10 17\n",
            "15\n"
          ]
        }
      ]
    },
    {
      "cell_type": "code",
      "source": [],
      "metadata": {
        "id": "kcwBkdig789i"
      },
      "execution_count": null,
      "outputs": []
    }
  ]
}
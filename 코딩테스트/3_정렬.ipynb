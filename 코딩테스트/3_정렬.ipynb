{
  "nbformat": 4,
  "nbformat_minor": 0,
  "metadata": {
    "colab": {
      "provenance": [],
      "authorship_tag": "ABX9TyM2GcyTe/36m06ROgTRfSNB",
      "include_colab_link": true
    },
    "kernelspec": {
      "name": "python3",
      "display_name": "Python 3"
    },
    "language_info": {
      "name": "python"
    }
  },
  "cells": [
    {
      "cell_type": "markdown",
      "metadata": {
        "id": "view-in-github",
        "colab_type": "text"
      },
      "source": [
        "<a href=\"https://colab.research.google.com/github/Parkseoho/codingtest/blob/main/%EC%BD%94%EB%94%A9%ED%85%8C%EC%8A%A4%ED%8A%B8/3_%EC%A0%95%EB%A0%AC.ipynb\" target=\"_parent\"><img src=\"https://colab.research.google.com/assets/colab-badge.svg\" alt=\"Open In Colab\"/></a>"
      ]
    },
    {
      "cell_type": "markdown",
      "source": [
        "## 1. 선택 정렬\n",
        "### 가장 작은 것을 선택한다는 선택 정렬 알고리즘"
      ],
      "metadata": {
        "id": "GC3BnFK3op1n"
      }
    },
    {
      "cell_type": "code",
      "execution_count": 3,
      "metadata": {
        "id": "_YeoNx7AoG6c"
      },
      "outputs": [],
      "source": [
        "array = [5,7,9,0,3,1,6,2,4,8]\n",
        "\n",
        "for i in range(len(array)):\n",
        "  min_index= i\n",
        "  for s in range(i+1,len(array)):\n",
        "    if array[min_index] > array[s]:\n",
        "      array[min_index] , array[s] = array[s], array[min_index]"
      ]
    },
    {
      "cell_type": "code",
      "source": [
        "array"
      ],
      "metadata": {
        "colab": {
          "base_uri": "https://localhost:8080/"
        },
        "id": "zn1G9B-8oWI4",
        "outputId": "ff6543bc-d26b-4d5f-c64c-cd819fc6bfce"
      },
      "execution_count": 4,
      "outputs": [
        {
          "output_type": "execute_result",
          "data": {
            "text/plain": [
              "[0, 1, 2, 3, 4, 5, 6, 7, 8, 9]"
            ]
          },
          "metadata": {},
          "execution_count": 4
        }
      ]
    },
    {
      "cell_type": "markdown",
      "source": [
        "## 2. 삽입정렬\n",
        "### 삽입정렬은 특정한 데이터를 적절한 위치에 삽입한다는 의미, 더불어 삽입 정렬은 특정한 데이터가 적절한 위치에 들어가기 이전에, 그 앞까지의 데이터는 이미 정렬 되어있다고 가정"
      ],
      "metadata": {
        "id": "mphlNA_XoxyB"
      }
    },
    {
      "cell_type": "code",
      "source": [
        "array = [5,7,9,0,3,1,6,2,4,8]\n",
        "\n",
        "for i in range(len(array)):\n",
        "  for s in range(i,0,-1):\n",
        "    if array[s] < array[s-1]:  # 한 칸씩 왼쪽으로 이동\n",
        "      array[s-1], array[s] = array[s], array[s-1]\n",
        "    else:\n",
        "      break"
      ],
      "metadata": {
        "id": "GG2KeO-toXSV"
      },
      "execution_count": 9,
      "outputs": []
    },
    {
      "cell_type": "code",
      "source": [
        "array"
      ],
      "metadata": {
        "colab": {
          "base_uri": "https://localhost:8080/"
        },
        "id": "DiHnp7YzwSv1",
        "outputId": "927a1fb5-72e9-4cef-941c-267dc0b3e460"
      },
      "execution_count": 10,
      "outputs": [
        {
          "output_type": "execute_result",
          "data": {
            "text/plain": [
              "[0, 1, 2, 3, 4, 5, 6, 7, 8, 9]"
            ]
          },
          "metadata": {},
          "execution_count": 10
        }
      ]
    },
    {
      "cell_type": "markdown",
      "source": [
        "## 3. 퀵정렬"
      ],
      "metadata": {
        "id": "a8VickoEwrew"
      }
    },
    {
      "cell_type": "code",
      "source": [
        "array = [5,7,9,0,3,1,6,2,4,8]\n",
        "\n",
        "def quick_sort(array):\n",
        "  if len(array) <=1:\n",
        "    return array\n",
        "\n",
        "  pivot = array[0]\n",
        "  tail = array[1:]\n",
        "\n",
        "  left_side = [x for x in tail if x <=pivot]\n",
        "  right_side = [x for x in tail if x>pivot]\n",
        "\n",
        "  return quick_sort(left_side) + [pivot] + quick_sort(right_side)\n",
        "print(quick_sort(array))"
      ],
      "metadata": {
        "colab": {
          "base_uri": "https://localhost:8080/"
        },
        "id": "DdGjmXYgwTiU",
        "outputId": "abc29a41-8736-4efd-cbd7-4b2963b21d1e"
      },
      "execution_count": 11,
      "outputs": [
        {
          "output_type": "stream",
          "name": "stdout",
          "text": [
            "[0, 1, 2, 3, 4, 5, 6, 7, 8, 9]\n"
          ]
        }
      ]
    },
    {
      "cell_type": "markdown",
      "source": [
        "## 4. 계수 정렬"
      ],
      "metadata": {
        "id": "OnQp7qGPxe1k"
      }
    },
    {
      "cell_type": "code",
      "source": [
        "array  = [7,5,9,0,3,1,6,2,9,1,4,8,0,5,2]\n",
        "count = [0] * (max(array)+1)\n",
        "\n",
        "for i in range(len(array)):\n",
        "  count[array[i]] +=1\n",
        "for i in range(len(count)):\n",
        "  for j in range(count[i]):\n",
        "    print(i, end=' ')"
      ],
      "metadata": {
        "colab": {
          "base_uri": "https://localhost:8080/"
        },
        "id": "CYttIVKGxgnU",
        "outputId": "503b5735-8598-4c4a-eab7-ccfd8ac63d35"
      },
      "execution_count": 12,
      "outputs": [
        {
          "output_type": "stream",
          "name": "stdout",
          "text": [
            "0 0 1 1 2 2 3 4 5 5 6 7 8 9 9 "
          ]
        }
      ]
    },
    {
      "cell_type": "markdown",
      "source": [
        "## 실전 문제 1. 위에서 아래로\n",
        "### 하나의 수열에 다양한 수가 존재, 이 수를 큰 수부터 작은 수의 순서로 정렬해야 한다.\n",
        "###수열을 내림차순으로 정렬하는 프로그램 생성"
      ],
      "metadata": {
        "id": "oOWLPsx13eIB"
      }
    },
    {
      "cell_type": "code",
      "source": [
        "n = int(input())\n",
        "array = []\n",
        "for i in range(n):\n",
        "  array.append(int(input()))\n",
        "array = sorted(array,reverse = True)\n",
        "for i in array:\n",
        "  print(i, end= ' ')"
      ],
      "metadata": {
        "colab": {
          "base_uri": "https://localhost:8080/"
        },
        "id": "F4OySVvZxxJK",
        "outputId": "250091b9-64e0-4d0c-bf3e-a51a0d9e8c4f"
      },
      "execution_count": 13,
      "outputs": [
        {
          "output_type": "stream",
          "name": "stdout",
          "text": [
            "3\n",
            "15\n",
            "27\n",
            "12\n",
            "27 15 12 "
          ]
        }
      ]
    },
    {
      "cell_type": "markdown",
      "source": [
        "## 실전 문제 2. 성적이 낮은 순서로 학생 출력\n",
        "### N명의 학생 정보가 있다. 각 학생의 이름과 성적 정보가 주어졌을 때,\n",
        "### 성적이 낮은 순서대로 학생의 이름을 출력하는 프로그램 작성"
      ],
      "metadata": {
        "id": "fEGRJtfkD6Zp"
      }
    },
    {
      "cell_type": "code",
      "source": [
        "n = int(input())\n",
        "array = []\n",
        "for i in range(n):\n",
        "  input_data = input().split()\n",
        "  array.append((input_data[0],int(input_data[1])))\n",
        "\n",
        "array  = sorted(array, key = lambda a: a[1])\n",
        "for student in array:\n",
        "  print(student[0],end=' ')"
      ],
      "metadata": {
        "colab": {
          "base_uri": "https://localhost:8080/"
        },
        "id": "kl7MjpgS4Bzx",
        "outputId": "dda358d6-e77b-45e6-b7c2-e01ec29a2f4f"
      },
      "execution_count": 15,
      "outputs": [
        {
          "output_type": "stream",
          "name": "stdout",
          "text": [
            "2\n",
            "홍길동 95\n",
            "이순신 77\n",
            "이순신 홍길동 "
          ]
        }
      ]
    },
    {
      "cell_type": "markdown",
      "source": [
        "## 실전문제 3. 두 배열의 원소 교체\n",
        "### 동빈이는 두 개의 배열 A와 B를 가지고 있다.\n",
        "### 동빈이는 최대 K번의 바꿔치기 연산을 수행할 수 있는데, 바꿔치기 연산이란 배열 A에 있는 원소 하나와 배열 B에 있는 원소 하나를 골라서 두 원소를 서로 바꾸는 것을 말한다.\n",
        "\n",
        "### 최종 목표는 배열 A의 모든 원소의 합이 최대가 되도록 하는 것이다\n"
      ],
      "metadata": {
        "id": "Sh51cvWRFHUe"
      }
    },
    {
      "cell_type": "code",
      "source": [
        "n,k = map(int, input().split())\n",
        "a = list(map(int, input().split()))\n",
        "b = list(map(int, input().split()))\n",
        "\n",
        "a.sort()\n",
        "b.sort(reverse=True)\n",
        "\n",
        "for i in range(k):\n",
        "  if a[i] < b[i]:\n",
        "    a[i] , b[i] = b[i], a[i]\n",
        "  else:\n",
        "    break\n",
        "\n",
        "sum(a)"
      ],
      "metadata": {
        "colab": {
          "base_uri": "https://localhost:8080/"
        },
        "id": "hd-4nmj0EwTT",
        "outputId": "40005443-5b5d-47bd-8394-15933f891516"
      },
      "execution_count": 16,
      "outputs": [
        {
          "name": "stdout",
          "output_type": "stream",
          "text": [
            "5 3\n",
            "1 2 5 4 3\n",
            "5 5 6 6 5\n"
          ]
        },
        {
          "output_type": "execute_result",
          "data": {
            "text/plain": [
              "26"
            ]
          },
          "metadata": {},
          "execution_count": 16
        }
      ]
    },
    {
      "cell_type": "code",
      "source": [],
      "metadata": {
        "id": "bhhOr-26KA_s"
      },
      "execution_count": null,
      "outputs": []
    }
  ]
}
{
  "nbformat": 4,
  "nbformat_minor": 0,
  "metadata": {
    "colab": {
      "provenance": [],
      "authorship_tag": "ABX9TyPeck0F5FFzUjQfNWo6YUk/",
      "include_colab_link": true
    },
    "kernelspec": {
      "name": "python3",
      "display_name": "Python 3"
    },
    "language_info": {
      "name": "python"
    }
  },
  "cells": [
    {
      "cell_type": "markdown",
      "metadata": {
        "id": "view-in-github",
        "colab_type": "text"
      },
      "source": [
        "<a href=\"https://colab.research.google.com/github/Parkseoho/codingtest/blob/main/%EC%BD%94%EB%94%A9%ED%85%8C%EC%8A%A4%ED%8A%B8/2_%EA%B5%AC%ED%98%84.ipynb\" target=\"_parent\"><img src=\"https://colab.research.google.com/assets/colab-badge.svg\" alt=\"Open In Colab\"/></a>"
      ]
    },
    {
      "cell_type": "code",
      "execution_count": null,
      "metadata": {
        "colab": {
          "base_uri": "https://localhost:8080/"
        },
        "id": "6abE6Iwv0foI",
        "outputId": "f6ff64b3-307c-41df-8a74-c0c2f07c7ef7"
      },
      "outputs": [
        {
          "output_type": "stream",
          "name": "stdout",
          "text": [
            "5\n",
            "R R R U D D\n",
            "3 4\n"
          ]
        }
      ],
      "source": [
        "n = int(input())\n",
        "x,y = 1,1\n",
        "plans = input().split()\n",
        "\n",
        "dx = [0,0,-1,1]\n",
        "dy = [-1,1,0,0]\n",
        "move_types = ['L','R','U','D']\n",
        "\n",
        "for plan in plans:\n",
        "  for i in range(len(move_types)):\n",
        "    if plan == move_types[i]:\n",
        "      nx = x + dx[i]\n",
        "      ny = y + dy[i]\n",
        "  if nx <1 or ny < 1 or nx >n or ny>n:\n",
        "    continue\n",
        "  x,y = nx, ny\n",
        "print(x,y)"
      ]
    },
    {
      "cell_type": "code",
      "source": [
        "n = int(input())\n",
        "count = 0\n",
        "\n",
        "for i in range(n+1):\n",
        "  for s in range(60):\n",
        "    for d in range(60):\n",
        "      if '3' in str(i) + str(s)+ str(d):\n",
        "        count+=1"
      ],
      "metadata": {
        "colab": {
          "base_uri": "https://localhost:8080/"
        },
        "id": "ACTgjBon8RHW",
        "outputId": "9b7a5969-c98c-4bd9-f3d7-6ae6557c043f"
      },
      "execution_count": null,
      "outputs": [
        {
          "output_type": "stream",
          "name": "stdout",
          "text": [
            "5\n",
            "0\n",
            "1\n",
            "2\n",
            "3\n",
            "4\n",
            "5\n"
          ]
        }
      ]
    },
    {
      "cell_type": "code",
      "source": [
        "count"
      ],
      "metadata": {
        "colab": {
          "base_uri": "https://localhost:8080/"
        },
        "id": "Nr7dvGfy8Q5X",
        "outputId": "3d62c434-2f0f-4e5b-aae1-bbaec0282e98"
      },
      "execution_count": null,
      "outputs": [
        {
          "output_type": "execute_result",
          "data": {
            "text/plain": [
              "11475"
            ]
          },
          "metadata": {},
          "execution_count": 7
        }
      ]
    },
    {
      "cell_type": "code",
      "source": [
        "input_data = input()\n",
        "row = int(input_data[1])\n",
        "columns = int(ord(input_data[0])) - int(ord('a')) +1\n",
        "steps = [(-2,-1), (-2,1),(2,-1),(2,1),(1,-2),(1,2),(-1,2),(-1,-2)]\n",
        "result = 0\n",
        "\n",
        "for step in steps:\n",
        "  next_row = row + step[0]\n",
        "  next_column = columns + step[1]\n",
        "  if next_row <=8 and next_row >=1 and next_column >=1 and next_column<=8:\n",
        "    result +=1\n",
        "\n",
        "print(result)"
      ],
      "metadata": {
        "colab": {
          "base_uri": "https://localhost:8080/"
        },
        "id": "CbsXuUkuAcs0",
        "outputId": "23ea45e4-b08f-402d-ff1e-0d31d7572a3b"
      },
      "execution_count": null,
      "outputs": [
        {
          "output_type": "stream",
          "name": "stdout",
          "text": [
            "a1\n",
            "2\n"
          ]
        }
      ]
    },
    {
      "cell_type": "code",
      "source": [],
      "metadata": {
        "id": "SYo46EdrCMyr"
      },
      "execution_count": null,
      "outputs": []
    },
    {
      "cell_type": "code",
      "source": [],
      "metadata": {
        "id": "85e23gIMH1-L"
      },
      "execution_count": null,
      "outputs": []
    },
    {
      "cell_type": "code",
      "source": [],
      "metadata": {
        "id": "UXCilyTUH2Th"
      },
      "execution_count": null,
      "outputs": []
    },
    {
      "cell_type": "code",
      "source": [],
      "metadata": {
        "id": "wJil8D2vH2is"
      },
      "execution_count": null,
      "outputs": []
    },
    {
      "cell_type": "code",
      "source": [],
      "metadata": {
        "id": "6GuYmPnXH2yV"
      },
      "execution_count": null,
      "outputs": []
    },
    {
      "cell_type": "code",
      "source": [],
      "metadata": {
        "id": "myBlcKJTH3Av"
      },
      "execution_count": null,
      "outputs": []
    }
  ]
}
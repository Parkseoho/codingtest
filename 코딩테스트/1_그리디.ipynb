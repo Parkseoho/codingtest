{
  "nbformat": 4,
  "nbformat_minor": 0,
  "metadata": {
    "colab": {
      "provenance": [],
      "authorship_tag": "ABX9TyOTYZ4ONXuo55O0MdL459lu",
      "include_colab_link": true
    },
    "kernelspec": {
      "name": "python3",
      "display_name": "Python 3"
    },
    "language_info": {
      "name": "python"
    }
  },
  "cells": [
    {
      "cell_type": "markdown",
      "metadata": {
        "id": "view-in-github",
        "colab_type": "text"
      },
      "source": [
        "<a href=\"https://colab.research.google.com/github/Parkseoho/codingtest/blob/main/%EC%BD%94%EB%94%A9%ED%85%8C%EC%8A%A4%ED%8A%B8/1_%EA%B7%B8%EB%A6%AC%EB%94%94.ipynb\" target=\"_parent\"><img src=\"https://colab.research.google.com/assets/colab-badge.svg\" alt=\"Open In Colab\"/></a>"
      ]
    },
    {
      "cell_type": "markdown",
      "source": [
        "## 그리디 알고리즘\n",
        "현재 상황에서 지금 당장 좋은 것만 고르는 방법\n",
        "현재의 선택이 나중에 미칠 여향에 대해서는 고려하지 않음"
      ],
      "metadata": {
        "id": "KU03Cv8rbADa"
      }
    },
    {
      "cell_type": "markdown",
      "source": [
        "### 1. 거스름돈\n",
        " 카운터에서 거스름돈 사용할 500원, 100원, 50원, 10원 단위 동전 무한히 존재\n",
        " 손님에게 거슬러 줘야할 돈이 N원일 떄 거슬러 줘야할 동전의 최소 개수 구하기 (단 거슬러 줘야 할 돈 N은 항사 10의)"
      ],
      "metadata": {
        "id": "23Laor5NeBXr"
      }
    },
    {
      "cell_type": "code",
      "source": [
        "n = 1250\n",
        "count = 0\n",
        "\n",
        "coin_types=[500,100,50,10]\n",
        "\n",
        "for coin in coin_types:\n",
        "  count += n//coin\n",
        "  n%=coin"
      ],
      "metadata": {
        "id": "BLOZhRqUbnPa"
      },
      "execution_count": null,
      "outputs": []
    },
    {
      "cell_type": "markdown",
      "source": [
        "### 2. 큰 수의 법칙\n"
      ],
      "metadata": {
        "id": "-ubwBoPveq_i"
      }
    },
    {
      "cell_type": "code",
      "source": [
        "n, m, k = map(int, input().split())\n",
        "data = list(map(int, input().split()))\n",
        "\n",
        "data.sort()\n",
        "first = data[n-1]\n",
        "second = data[n-2]\n",
        "result = 0\n",
        "\n",
        "while True:\n",
        "  for i in range(k):\n",
        "    if m ==0:\n",
        "      break\n",
        "    result += first\n",
        "    m-=1\n",
        "  if m ==0:\n",
        "    break\n",
        "  result +=second\n",
        "  m -= 1\n",
        "print(result)"
      ],
      "metadata": {
        "colab": {
          "base_uri": "https://localhost:8080/"
        },
        "id": "eZE9tMlxe1Rf",
        "outputId": "430fbe73-abf3-4590-e2cb-2bba010bed53"
      },
      "execution_count": null,
      "outputs": [
        {
          "output_type": "stream",
          "name": "stdout",
          "text": [
            "5 8 3\n",
            "2 4 5 4 6\n",
            "46\n"
          ]
        }
      ]
    },
    {
      "cell_type": "code",
      "source": [
        "n,m,k = map(int,input().split())\n",
        "data = list(map(int,input().split()))\n",
        "data.sort()\n",
        "first = data[-1]\n",
        "second = data[-2]\n",
        "\n",
        "count = int(m/(k+1)) *k\n",
        "count += m%(k+1)\n",
        "\n",
        "result = 0\n",
        "result += (count) * first\n",
        "result += (m-count) * second\n",
        "result"
      ],
      "metadata": {
        "colab": {
          "base_uri": "https://localhost:8080/"
        },
        "id": "54WJBxtGhzNK",
        "outputId": "00762eef-53ac-4634-d523-9237e8e5e1d1"
      },
      "execution_count": null,
      "outputs": [
        {
          "name": "stdout",
          "output_type": "stream",
          "text": [
            "5 8 3\n",
            "2 4 5 4 6\n"
          ]
        }
      ]
    },
    {
      "cell_type": "markdown",
      "source": [
        "## 숫자 카드 게임"
      ],
      "metadata": {
        "id": "R0XcBDybkxeD"
      }
    },
    {
      "cell_type": "code",
      "source": [
        "# min() 함수 이용\n",
        "\n",
        "n,m = map(int,input().split())\n",
        "result = 0\n",
        "\n",
        "for i in range(n):\n",
        "  data = list(map(int,input().split()))\n",
        "  min_value = min(data)\n",
        "  result = max(result, min_value)\n",
        "print(result)"
      ],
      "metadata": {
        "colab": {
          "base_uri": "https://localhost:8080/"
        },
        "id": "rSt4xrblkoV7",
        "outputId": "c1306c02-e089-486d-ce28-9036e6838106"
      },
      "execution_count": null,
      "outputs": [
        {
          "output_type": "stream",
          "name": "stdout",
          "text": [
            "2 4\n",
            "7 3 1 8\n",
            "3 3 3 4\n",
            "3\n"
          ]
        }
      ]
    },
    {
      "cell_type": "code",
      "source": [
        "# 2중 반복문\n",
        "\n",
        "n,m = map(int,input().split())\n",
        "for i in range(n):\n",
        "  data = list(map(int,input().split()))\n",
        "  min_value = 10001\n",
        "  for a in data:\n",
        "    min_value = min(min_value,a)\n",
        "  result = max(result,min_value)\n",
        "result"
      ],
      "metadata": {
        "colab": {
          "base_uri": "https://localhost:8080/"
        },
        "id": "SVCB5MDxRY2S",
        "outputId": "5a6aed28-a2a8-498c-c3f6-1de05b90fbf4"
      },
      "execution_count": null,
      "outputs": [
        {
          "name": "stdout",
          "output_type": "stream",
          "text": [
            "2 4\n",
            "7 3 1 8\n",
            "3 3 3 4\n"
          ]
        },
        {
          "output_type": "execute_result",
          "data": {
            "text/plain": [
              "3"
            ]
          },
          "metadata": {},
          "execution_count": 6
        }
      ]
    },
    {
      "cell_type": "code",
      "source": [
        "# 어떠한 수 N이 1이 될 떄까지 다음의 두 과정을 반복 진행\n",
        "# N에서 1을 뺀다\n",
        "# N을 K로 나눈다.\n",
        "# 단 두 번째 연산은 N이 K로 나누어떨어질 때만 선택 가능\n",
        "\n",
        "\n",
        "n,k = map(int,input().split())\n",
        "result = 0\n",
        "\n",
        "while n >=k:\n",
        "  while n % k !=0:\n",
        "    n-=1\n",
        "    result +=1\n",
        "  n//= k\n",
        "  result +=1\n",
        "while n>1:\n",
        "  n-=1\n",
        "  result +=1\n",
        "print(result)"
      ],
      "metadata": {
        "colab": {
          "base_uri": "https://localhost:8080/"
        },
        "id": "Kf4FWT_sSnsH",
        "outputId": "171fa0e2-045e-4335-a0f3-6ea16befd1bf"
      },
      "execution_count": null,
      "outputs": [
        {
          "output_type": "stream",
          "name": "stdout",
          "text": [
            "25 5\n",
            "2\n"
          ]
        }
      ]
    },
    {
      "cell_type": "code",
      "source": [
        "n,k = map(int,input().split())\n",
        "result = 0\n",
        "while True:\n",
        "  target = (n//k) *k\n",
        "  result += (n-target)\n",
        "  n = target\n",
        "  if n<k:\n",
        "    break\n",
        "  n//= k\n",
        "  result +=1\n",
        "result +=(n-1)\n",
        "print(result)"
      ],
      "metadata": {
        "colab": {
          "base_uri": "https://localhost:8080/"
        },
        "id": "AfBlOdrrf1Qc",
        "outputId": "1682ca83-7635-4f26-860b-48026ac4aa57"
      },
      "execution_count": null,
      "outputs": [
        {
          "output_type": "stream",
          "name": "stdout",
          "text": [
            "28 3\n",
            "4\n"
          ]
        }
      ]
    },
    {
      "cell_type": "code",
      "source": [],
      "metadata": {
        "id": "E3dNyhGXF_7C"
      },
      "execution_count": null,
      "outputs": []
    },
    {
      "cell_type": "code",
      "source": [],
      "metadata": {
        "id": "pQRhANIHF_xG"
      },
      "execution_count": null,
      "outputs": []
    }
  ]
}